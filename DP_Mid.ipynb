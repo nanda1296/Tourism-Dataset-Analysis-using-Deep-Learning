{
  "nbformat": 4,
  "nbformat_minor": 0,
  "metadata": {
    "colab": {
      "provenance": [],
      "authorship_tag": "ABX9TyOzD74PItSsLpQK7/3+lac6",
      "include_colab_link": true
    },
    "kernelspec": {
      "name": "python3",
      "display_name": "Python 3"
    },
    "language_info": {
      "name": "python"
    }
  },
  "cells": [
    {
      "cell_type": "markdown",
      "metadata": {
        "id": "view-in-github",
        "colab_type": "text"
      },
      "source": [
        "<a href=\"https://colab.research.google.com/github/nanda1296/Tourism-Dataset-Analysis-using-Deep-Learning/blob/main/DP_Mid.ipynb\" target=\"_parent\"><img src=\"https://colab.research.google.com/assets/colab-badge.svg\" alt=\"Open In Colab\"/></a>"
      ]
    },
    {
      "cell_type": "markdown",
      "source": [
        "2023W-T3 AISC2007 - Deep Learning 01\n",
        "\n",
        "Midterm\n",
        "\n",
        "Student Name: Nanda Kishore Karicherla\n",
        "\n",
        "StudentID: 500197946"
      ],
      "metadata": {
        "id": "HAQ_uBi0gqBY"
      }
    },
    {
      "cell_type": "code",
      "execution_count": null,
      "metadata": {
        "id": "63EXEqGcBfID"
      },
      "outputs": [],
      "source": [
        "import pandas as pd\n",
        "import numpy as np"
      ]
    },
    {
      "cell_type": "code",
      "source": [
        "import matplotlib.pyplot as plt\n",
        "import seaborn as sns\n",
        "from sklearn.model_selection import train_test_split"
      ],
      "metadata": {
        "id": "NsKFaoyNDmSI"
      },
      "execution_count": null,
      "outputs": []
    },
    {
      "cell_type": "code",
      "source": [
        "df = pd.read_excel('Tourism.xlsx', 'Tourism')\n",
        "df.head()\n"
      ],
      "metadata": {
        "colab": {
          "base_uri": "https://localhost:8080/",
          "height": 322
        },
        "id": "9NAiKMEhD6wt",
        "outputId": "3e3e9d53-b4d5-48fc-9f85-3b2e710490cf"
      },
      "execution_count": null,
      "outputs": [
        {
          "output_type": "execute_result",
          "data": {
            "text/plain": [
              "   CustomerID  ProdTaken   Age    TypeofContact  CityTier  DurationOfPitch  \\\n",
              "0      200000          1  41.0     Self Enquiry         3              6.0   \n",
              "1      200001          0  49.0  Company Invited         1             14.0   \n",
              "2      200002          1  37.0     Self Enquiry         1              8.0   \n",
              "3      200003          0  33.0  Company Invited         1              9.0   \n",
              "4      200004          0   NaN     Self Enquiry         1              8.0   \n",
              "\n",
              "       Occupation  Gender  NumberOfPersonVisiting  NumberOfFollowups  \\\n",
              "0        Salaried  Female                       3                3.0   \n",
              "1        Salaried    Male                       3                4.0   \n",
              "2     Free Lancer    Male                       3                4.0   \n",
              "3        Salaried  Female                       2                3.0   \n",
              "4  Small Business    Male                       2                3.0   \n",
              "\n",
              "  ProductPitched  PreferredPropertyStar MaritalStatus  NumberOfTrips  \\\n",
              "0         Deluxe                    3.0        Single            1.0   \n",
              "1         Deluxe                    4.0      Divorced            2.0   \n",
              "2          Basic                    3.0        Single            7.0   \n",
              "3          Basic                    3.0      Divorced            2.0   \n",
              "4          Basic                    4.0      Divorced            1.0   \n",
              "\n",
              "   Passport  PitchSatisfactionScore  OwnCar  NumberOfChildrenVisiting  \\\n",
              "0         1                       2       1                       0.0   \n",
              "1         0                       3       1                       2.0   \n",
              "2         1                       3       0                       0.0   \n",
              "3         1                       5       1                       1.0   \n",
              "4         0                       5       1                       0.0   \n",
              "\n",
              "  Designation  MonthlyIncome  \n",
              "0     Manager        20993.0  \n",
              "1     Manager        20130.0  \n",
              "2   Executive        17090.0  \n",
              "3   Executive        17909.0  \n",
              "4   Executive        18468.0  "
            ],
            "text/html": [
              "\n",
              "  <div id=\"df-f601e571-bf88-4991-978e-eb10540b2d70\">\n",
              "    <div class=\"colab-df-container\">\n",
              "      <div>\n",
              "<style scoped>\n",
              "    .dataframe tbody tr th:only-of-type {\n",
              "        vertical-align: middle;\n",
              "    }\n",
              "\n",
              "    .dataframe tbody tr th {\n",
              "        vertical-align: top;\n",
              "    }\n",
              "\n",
              "    .dataframe thead th {\n",
              "        text-align: right;\n",
              "    }\n",
              "</style>\n",
              "<table border=\"1\" class=\"dataframe\">\n",
              "  <thead>\n",
              "    <tr style=\"text-align: right;\">\n",
              "      <th></th>\n",
              "      <th>CustomerID</th>\n",
              "      <th>ProdTaken</th>\n",
              "      <th>Age</th>\n",
              "      <th>TypeofContact</th>\n",
              "      <th>CityTier</th>\n",
              "      <th>DurationOfPitch</th>\n",
              "      <th>Occupation</th>\n",
              "      <th>Gender</th>\n",
              "      <th>NumberOfPersonVisiting</th>\n",
              "      <th>NumberOfFollowups</th>\n",
              "      <th>ProductPitched</th>\n",
              "      <th>PreferredPropertyStar</th>\n",
              "      <th>MaritalStatus</th>\n",
              "      <th>NumberOfTrips</th>\n",
              "      <th>Passport</th>\n",
              "      <th>PitchSatisfactionScore</th>\n",
              "      <th>OwnCar</th>\n",
              "      <th>NumberOfChildrenVisiting</th>\n",
              "      <th>Designation</th>\n",
              "      <th>MonthlyIncome</th>\n",
              "    </tr>\n",
              "  </thead>\n",
              "  <tbody>\n",
              "    <tr>\n",
              "      <th>0</th>\n",
              "      <td>200000</td>\n",
              "      <td>1</td>\n",
              "      <td>41.0</td>\n",
              "      <td>Self Enquiry</td>\n",
              "      <td>3</td>\n",
              "      <td>6.0</td>\n",
              "      <td>Salaried</td>\n",
              "      <td>Female</td>\n",
              "      <td>3</td>\n",
              "      <td>3.0</td>\n",
              "      <td>Deluxe</td>\n",
              "      <td>3.0</td>\n",
              "      <td>Single</td>\n",
              "      <td>1.0</td>\n",
              "      <td>1</td>\n",
              "      <td>2</td>\n",
              "      <td>1</td>\n",
              "      <td>0.0</td>\n",
              "      <td>Manager</td>\n",
              "      <td>20993.0</td>\n",
              "    </tr>\n",
              "    <tr>\n",
              "      <th>1</th>\n",
              "      <td>200001</td>\n",
              "      <td>0</td>\n",
              "      <td>49.0</td>\n",
              "      <td>Company Invited</td>\n",
              "      <td>1</td>\n",
              "      <td>14.0</td>\n",
              "      <td>Salaried</td>\n",
              "      <td>Male</td>\n",
              "      <td>3</td>\n",
              "      <td>4.0</td>\n",
              "      <td>Deluxe</td>\n",
              "      <td>4.0</td>\n",
              "      <td>Divorced</td>\n",
              "      <td>2.0</td>\n",
              "      <td>0</td>\n",
              "      <td>3</td>\n",
              "      <td>1</td>\n",
              "      <td>2.0</td>\n",
              "      <td>Manager</td>\n",
              "      <td>20130.0</td>\n",
              "    </tr>\n",
              "    <tr>\n",
              "      <th>2</th>\n",
              "      <td>200002</td>\n",
              "      <td>1</td>\n",
              "      <td>37.0</td>\n",
              "      <td>Self Enquiry</td>\n",
              "      <td>1</td>\n",
              "      <td>8.0</td>\n",
              "      <td>Free Lancer</td>\n",
              "      <td>Male</td>\n",
              "      <td>3</td>\n",
              "      <td>4.0</td>\n",
              "      <td>Basic</td>\n",
              "      <td>3.0</td>\n",
              "      <td>Single</td>\n",
              "      <td>7.0</td>\n",
              "      <td>1</td>\n",
              "      <td>3</td>\n",
              "      <td>0</td>\n",
              "      <td>0.0</td>\n",
              "      <td>Executive</td>\n",
              "      <td>17090.0</td>\n",
              "    </tr>\n",
              "    <tr>\n",
              "      <th>3</th>\n",
              "      <td>200003</td>\n",
              "      <td>0</td>\n",
              "      <td>33.0</td>\n",
              "      <td>Company Invited</td>\n",
              "      <td>1</td>\n",
              "      <td>9.0</td>\n",
              "      <td>Salaried</td>\n",
              "      <td>Female</td>\n",
              "      <td>2</td>\n",
              "      <td>3.0</td>\n",
              "      <td>Basic</td>\n",
              "      <td>3.0</td>\n",
              "      <td>Divorced</td>\n",
              "      <td>2.0</td>\n",
              "      <td>1</td>\n",
              "      <td>5</td>\n",
              "      <td>1</td>\n",
              "      <td>1.0</td>\n",
              "      <td>Executive</td>\n",
              "      <td>17909.0</td>\n",
              "    </tr>\n",
              "    <tr>\n",
              "      <th>4</th>\n",
              "      <td>200004</td>\n",
              "      <td>0</td>\n",
              "      <td>NaN</td>\n",
              "      <td>Self Enquiry</td>\n",
              "      <td>1</td>\n",
              "      <td>8.0</td>\n",
              "      <td>Small Business</td>\n",
              "      <td>Male</td>\n",
              "      <td>2</td>\n",
              "      <td>3.0</td>\n",
              "      <td>Basic</td>\n",
              "      <td>4.0</td>\n",
              "      <td>Divorced</td>\n",
              "      <td>1.0</td>\n",
              "      <td>0</td>\n",
              "      <td>5</td>\n",
              "      <td>1</td>\n",
              "      <td>0.0</td>\n",
              "      <td>Executive</td>\n",
              "      <td>18468.0</td>\n",
              "    </tr>\n",
              "  </tbody>\n",
              "</table>\n",
              "</div>\n",
              "      <button class=\"colab-df-convert\" onclick=\"convertToInteractive('df-f601e571-bf88-4991-978e-eb10540b2d70')\"\n",
              "              title=\"Convert this dataframe to an interactive table.\"\n",
              "              style=\"display:none;\">\n",
              "        \n",
              "  <svg xmlns=\"http://www.w3.org/2000/svg\" height=\"24px\"viewBox=\"0 0 24 24\"\n",
              "       width=\"24px\">\n",
              "    <path d=\"M0 0h24v24H0V0z\" fill=\"none\"/>\n",
              "    <path d=\"M18.56 5.44l.94 2.06.94-2.06 2.06-.94-2.06-.94-.94-2.06-.94 2.06-2.06.94zm-11 1L8.5 8.5l.94-2.06 2.06-.94-2.06-.94L8.5 2.5l-.94 2.06-2.06.94zm10 10l.94 2.06.94-2.06 2.06-.94-2.06-.94-.94-2.06-.94 2.06-2.06.94z\"/><path d=\"M17.41 7.96l-1.37-1.37c-.4-.4-.92-.59-1.43-.59-.52 0-1.04.2-1.43.59L10.3 9.45l-7.72 7.72c-.78.78-.78 2.05 0 2.83L4 21.41c.39.39.9.59 1.41.59.51 0 1.02-.2 1.41-.59l7.78-7.78 2.81-2.81c.8-.78.8-2.07 0-2.86zM5.41 20L4 18.59l7.72-7.72 1.47 1.35L5.41 20z\"/>\n",
              "  </svg>\n",
              "      </button>\n",
              "      \n",
              "  <style>\n",
              "    .colab-df-container {\n",
              "      display:flex;\n",
              "      flex-wrap:wrap;\n",
              "      gap: 12px;\n",
              "    }\n",
              "\n",
              "    .colab-df-convert {\n",
              "      background-color: #E8F0FE;\n",
              "      border: none;\n",
              "      border-radius: 50%;\n",
              "      cursor: pointer;\n",
              "      display: none;\n",
              "      fill: #1967D2;\n",
              "      height: 32px;\n",
              "      padding: 0 0 0 0;\n",
              "      width: 32px;\n",
              "    }\n",
              "\n",
              "    .colab-df-convert:hover {\n",
              "      background-color: #E2EBFA;\n",
              "      box-shadow: 0px 1px 2px rgba(60, 64, 67, 0.3), 0px 1px 3px 1px rgba(60, 64, 67, 0.15);\n",
              "      fill: #174EA6;\n",
              "    }\n",
              "\n",
              "    [theme=dark] .colab-df-convert {\n",
              "      background-color: #3B4455;\n",
              "      fill: #D2E3FC;\n",
              "    }\n",
              "\n",
              "    [theme=dark] .colab-df-convert:hover {\n",
              "      background-color: #434B5C;\n",
              "      box-shadow: 0px 1px 3px 1px rgba(0, 0, 0, 0.15);\n",
              "      filter: drop-shadow(0px 1px 2px rgba(0, 0, 0, 0.3));\n",
              "      fill: #FFFFFF;\n",
              "    }\n",
              "  </style>\n",
              "\n",
              "      <script>\n",
              "        const buttonEl =\n",
              "          document.querySelector('#df-f601e571-bf88-4991-978e-eb10540b2d70 button.colab-df-convert');\n",
              "        buttonEl.style.display =\n",
              "          google.colab.kernel.accessAllowed ? 'block' : 'none';\n",
              "\n",
              "        async function convertToInteractive(key) {\n",
              "          const element = document.querySelector('#df-f601e571-bf88-4991-978e-eb10540b2d70');\n",
              "          const dataTable =\n",
              "            await google.colab.kernel.invokeFunction('convertToInteractive',\n",
              "                                                     [key], {});\n",
              "          if (!dataTable) return;\n",
              "\n",
              "          const docLinkHtml = 'Like what you see? Visit the ' +\n",
              "            '<a target=\"_blank\" href=https://colab.research.google.com/notebooks/data_table.ipynb>data table notebook</a>'\n",
              "            + ' to learn more about interactive tables.';\n",
              "          element.innerHTML = '';\n",
              "          dataTable['output_type'] = 'display_data';\n",
              "          await google.colab.output.renderOutput(dataTable, element);\n",
              "          const docLink = document.createElement('div');\n",
              "          docLink.innerHTML = docLinkHtml;\n",
              "          element.appendChild(docLink);\n",
              "        }\n",
              "      </script>\n",
              "    </div>\n",
              "  </div>\n",
              "  "
            ]
          },
          "metadata": {},
          "execution_count": 3
        }
      ]
    },
    {
      "cell_type": "code",
      "source": [
        "df.info()\n"
      ],
      "metadata": {
        "colab": {
          "base_uri": "https://localhost:8080/"
        },
        "id": "YTKYvCH8Ebls",
        "outputId": "0248b009-3dcc-4b2b-e355-50507d79bef1"
      },
      "execution_count": null,
      "outputs": [
        {
          "output_type": "stream",
          "name": "stdout",
          "text": [
            "<class 'pandas.core.frame.DataFrame'>\n",
            "RangeIndex: 4888 entries, 0 to 4887\n",
            "Data columns (total 20 columns):\n",
            " #   Column                    Non-Null Count  Dtype  \n",
            "---  ------                    --------------  -----  \n",
            " 0   CustomerID                4888 non-null   int64  \n",
            " 1   ProdTaken                 4888 non-null   int64  \n",
            " 2   Age                       4662 non-null   float64\n",
            " 3   TypeofContact             4863 non-null   object \n",
            " 4   CityTier                  4888 non-null   int64  \n",
            " 5   DurationOfPitch           4637 non-null   float64\n",
            " 6   Occupation                4888 non-null   object \n",
            " 7   Gender                    4888 non-null   object \n",
            " 8   NumberOfPersonVisiting    4888 non-null   int64  \n",
            " 9   NumberOfFollowups         4843 non-null   float64\n",
            " 10  ProductPitched            4888 non-null   object \n",
            " 11  PreferredPropertyStar     4862 non-null   float64\n",
            " 12  MaritalStatus             4888 non-null   object \n",
            " 13  NumberOfTrips             4748 non-null   float64\n",
            " 14  Passport                  4888 non-null   int64  \n",
            " 15  PitchSatisfactionScore    4888 non-null   int64  \n",
            " 16  OwnCar                    4888 non-null   int64  \n",
            " 17  NumberOfChildrenVisiting  4822 non-null   float64\n",
            " 18  Designation               4888 non-null   object \n",
            " 19  MonthlyIncome             4655 non-null   float64\n",
            "dtypes: float64(7), int64(7), object(6)\n",
            "memory usage: 763.9+ KB\n"
          ]
        }
      ]
    },
    {
      "cell_type": "code",
      "source": [
        "df.drop('CustomerID',axis='columns',inplace=True)"
      ],
      "metadata": {
        "id": "VQb2I1_DJm66"
      },
      "execution_count": null,
      "outputs": []
    },
    {
      "cell_type": "code",
      "source": [
        "cat_cols = ['Designation','ProdTaken', 'OwnCar', 'Passport',\n",
        "            'CityTier','MaritalStatus',\n",
        "            'ProductPitched','Gender','Occupation','TypeofContact'\n",
        "            ]"
      ],
      "metadata": {
        "id": "csqrNqk8KKLm"
      },
      "execution_count": null,
      "outputs": []
    },
    {
      "cell_type": "code",
      "source": [
        "for i in cat_cols:\n",
        "    print('Unique values in',i, 'are :')\n",
        "    print(df[i].value_counts())\n",
        "    print('_'*40)"
      ],
      "metadata": {
        "colab": {
          "base_uri": "https://localhost:8080/"
        },
        "id": "_G-iLhyiJyLa",
        "outputId": "f120bcf1-08bd-4a5e-bb46-99846a1529ca"
      },
      "execution_count": null,
      "outputs": [
        {
          "output_type": "stream",
          "name": "stdout",
          "text": [
            "Unique values in Designation are :\n",
            "Executive         1842\n",
            "Manager           1732\n",
            "Senior Manager     742\n",
            "AVP                342\n",
            "VP                 230\n",
            "Name: Designation, dtype: int64\n",
            "________________________________________\n",
            "Unique values in ProdTaken are :\n",
            "0    3968\n",
            "1     920\n",
            "Name: ProdTaken, dtype: int64\n",
            "________________________________________\n",
            "Unique values in OwnCar are :\n",
            "1    3032\n",
            "0    1856\n",
            "Name: OwnCar, dtype: int64\n",
            "________________________________________\n",
            "Unique values in Passport are :\n",
            "0    3466\n",
            "1    1422\n",
            "Name: Passport, dtype: int64\n",
            "________________________________________\n",
            "Unique values in CityTier are :\n",
            "1    3190\n",
            "3    1500\n",
            "2     198\n",
            "Name: CityTier, dtype: int64\n",
            "________________________________________\n",
            "Unique values in MaritalStatus are :\n",
            "Married      2340\n",
            "Divorced      950\n",
            "Single        916\n",
            "Unmarried     682\n",
            "Name: MaritalStatus, dtype: int64\n",
            "________________________________________\n",
            "Unique values in ProductPitched are :\n",
            "Basic           1842\n",
            "Deluxe          1732\n",
            "Standard         742\n",
            "Super Deluxe     342\n",
            "King             230\n",
            "Name: ProductPitched, dtype: int64\n",
            "________________________________________\n",
            "Unique values in Gender are :\n",
            "Male       2916\n",
            "Female     1817\n",
            "Fe Male     155\n",
            "Name: Gender, dtype: int64\n",
            "________________________________________\n",
            "Unique values in Occupation are :\n",
            "Salaried          2368\n",
            "Small Business    2084\n",
            "Large Business     434\n",
            "Free Lancer          2\n",
            "Name: Occupation, dtype: int64\n",
            "________________________________________\n",
            "Unique values in TypeofContact are :\n",
            "Self Enquiry       3444\n",
            "Company Invited    1419\n",
            "Name: TypeofContact, dtype: int64\n",
            "________________________________________\n"
          ]
        }
      ]
    },
    {
      "cell_type": "code",
      "source": [
        "df.Gender.value_counts()"
      ],
      "metadata": {
        "colab": {
          "base_uri": "https://localhost:8080/"
        },
        "id": "f7P1olGJKA_7",
        "outputId": "9b4e9456-bc4b-45ff-bbab-24b22ad11d15"
      },
      "execution_count": null,
      "outputs": [
        {
          "output_type": "execute_result",
          "data": {
            "text/plain": [
              "Male       2916\n",
              "Female     1817\n",
              "Fe Male     155\n",
              "Name: Gender, dtype: int64"
            ]
          },
          "metadata": {},
          "execution_count": 8
        }
      ]
    },
    {
      "cell_type": "code",
      "source": [
        "df['Gender'] = df['Gender'].apply(lambda z: 'Female' if z == 'Fe Male' else z)\n",
        "df.Gender.value_counts()"
      ],
      "metadata": {
        "colab": {
          "base_uri": "https://localhost:8080/"
        },
        "id": "is19bjQLL1iw",
        "outputId": "59755f7a-fa67-44c1-9655-553732263737"
      },
      "execution_count": null,
      "outputs": [
        {
          "output_type": "execute_result",
          "data": {
            "text/plain": [
              "Male      2916\n",
              "Female    1972\n",
              "Name: Gender, dtype: int64"
            ]
          },
          "metadata": {},
          "execution_count": 9
        }
      ]
    },
    {
      "cell_type": "code",
      "source": [
        "cat_cols = ['Designation','ProdTaken', 'OwnCar', 'Passport',\n",
        "            'CityTier','MaritalStatus',\n",
        "            'ProductPitched','Gender','Occupation','TypeofContact'\n",
        "            ]\n",
        "df[cat_cols] = df[cat_cols].astype('category')\n",
        "df.info()"
      ],
      "metadata": {
        "colab": {
          "base_uri": "https://localhost:8080/"
        },
        "id": "z5RgRjTxMjYL",
        "outputId": "489bb1d7-3d61-4c45-e9f8-6349e2fd88f2"
      },
      "execution_count": null,
      "outputs": [
        {
          "output_type": "stream",
          "name": "stdout",
          "text": [
            "<class 'pandas.core.frame.DataFrame'>\n",
            "RangeIndex: 4888 entries, 0 to 4887\n",
            "Data columns (total 19 columns):\n",
            " #   Column                    Non-Null Count  Dtype   \n",
            "---  ------                    --------------  -----   \n",
            " 0   ProdTaken                 4888 non-null   category\n",
            " 1   Age                       4662 non-null   float64 \n",
            " 2   TypeofContact             4863 non-null   category\n",
            " 3   CityTier                  4888 non-null   category\n",
            " 4   DurationOfPitch           4637 non-null   float64 \n",
            " 5   Occupation                4888 non-null   category\n",
            " 6   Gender                    4888 non-null   category\n",
            " 7   NumberOfPersonVisiting    4888 non-null   int64   \n",
            " 8   NumberOfFollowups         4843 non-null   float64 \n",
            " 9   ProductPitched            4888 non-null   category\n",
            " 10  PreferredPropertyStar     4862 non-null   float64 \n",
            " 11  MaritalStatus             4888 non-null   category\n",
            " 12  NumberOfTrips             4748 non-null   float64 \n",
            " 13  Passport                  4888 non-null   category\n",
            " 14  PitchSatisfactionScore    4888 non-null   int64   \n",
            " 15  OwnCar                    4888 non-null   category\n",
            " 16  NumberOfChildrenVisiting  4822 non-null   float64 \n",
            " 17  Designation               4888 non-null   category\n",
            " 18  MonthlyIncome             4655 non-null   float64 \n",
            "dtypes: category(10), float64(7), int64(2)\n",
            "memory usage: 393.1 KB\n"
          ]
        }
      ]
    },
    {
      "cell_type": "code",
      "source": [
        "df.describe(include=['category']).T"
      ],
      "metadata": {
        "colab": {
          "base_uri": "https://localhost:8080/",
          "height": 363
        },
        "id": "iHBvIb9IPCFh",
        "outputId": "8b08f3f1-a457-47b0-bd20-cac40fbe1d4f"
      },
      "execution_count": null,
      "outputs": [
        {
          "output_type": "execute_result",
          "data": {
            "text/plain": [
              "               count unique           top  freq\n",
              "ProdTaken       4888      2             0  3968\n",
              "TypeofContact   4863      2  Self Enquiry  3444\n",
              "CityTier        4888      3             1  3190\n",
              "Occupation      4888      4      Salaried  2368\n",
              "Gender          4888      2          Male  2916\n",
              "ProductPitched  4888      5         Basic  1842\n",
              "MaritalStatus   4888      4       Married  2340\n",
              "Passport        4888      2             0  3466\n",
              "OwnCar          4888      2             1  3032\n",
              "Designation     4888      5     Executive  1842"
            ],
            "text/html": [
              "\n",
              "  <div id=\"df-8cb187be-4d87-4fda-96f8-a2585f3b10b8\">\n",
              "    <div class=\"colab-df-container\">\n",
              "      <div>\n",
              "<style scoped>\n",
              "    .dataframe tbody tr th:only-of-type {\n",
              "        vertical-align: middle;\n",
              "    }\n",
              "\n",
              "    .dataframe tbody tr th {\n",
              "        vertical-align: top;\n",
              "    }\n",
              "\n",
              "    .dataframe thead th {\n",
              "        text-align: right;\n",
              "    }\n",
              "</style>\n",
              "<table border=\"1\" class=\"dataframe\">\n",
              "  <thead>\n",
              "    <tr style=\"text-align: right;\">\n",
              "      <th></th>\n",
              "      <th>count</th>\n",
              "      <th>unique</th>\n",
              "      <th>top</th>\n",
              "      <th>freq</th>\n",
              "    </tr>\n",
              "  </thead>\n",
              "  <tbody>\n",
              "    <tr>\n",
              "      <th>ProdTaken</th>\n",
              "      <td>4888</td>\n",
              "      <td>2</td>\n",
              "      <td>0</td>\n",
              "      <td>3968</td>\n",
              "    </tr>\n",
              "    <tr>\n",
              "      <th>TypeofContact</th>\n",
              "      <td>4863</td>\n",
              "      <td>2</td>\n",
              "      <td>Self Enquiry</td>\n",
              "      <td>3444</td>\n",
              "    </tr>\n",
              "    <tr>\n",
              "      <th>CityTier</th>\n",
              "      <td>4888</td>\n",
              "      <td>3</td>\n",
              "      <td>1</td>\n",
              "      <td>3190</td>\n",
              "    </tr>\n",
              "    <tr>\n",
              "      <th>Occupation</th>\n",
              "      <td>4888</td>\n",
              "      <td>4</td>\n",
              "      <td>Salaried</td>\n",
              "      <td>2368</td>\n",
              "    </tr>\n",
              "    <tr>\n",
              "      <th>Gender</th>\n",
              "      <td>4888</td>\n",
              "      <td>2</td>\n",
              "      <td>Male</td>\n",
              "      <td>2916</td>\n",
              "    </tr>\n",
              "    <tr>\n",
              "      <th>ProductPitched</th>\n",
              "      <td>4888</td>\n",
              "      <td>5</td>\n",
              "      <td>Basic</td>\n",
              "      <td>1842</td>\n",
              "    </tr>\n",
              "    <tr>\n",
              "      <th>MaritalStatus</th>\n",
              "      <td>4888</td>\n",
              "      <td>4</td>\n",
              "      <td>Married</td>\n",
              "      <td>2340</td>\n",
              "    </tr>\n",
              "    <tr>\n",
              "      <th>Passport</th>\n",
              "      <td>4888</td>\n",
              "      <td>2</td>\n",
              "      <td>0</td>\n",
              "      <td>3466</td>\n",
              "    </tr>\n",
              "    <tr>\n",
              "      <th>OwnCar</th>\n",
              "      <td>4888</td>\n",
              "      <td>2</td>\n",
              "      <td>1</td>\n",
              "      <td>3032</td>\n",
              "    </tr>\n",
              "    <tr>\n",
              "      <th>Designation</th>\n",
              "      <td>4888</td>\n",
              "      <td>5</td>\n",
              "      <td>Executive</td>\n",
              "      <td>1842</td>\n",
              "    </tr>\n",
              "  </tbody>\n",
              "</table>\n",
              "</div>\n",
              "      <button class=\"colab-df-convert\" onclick=\"convertToInteractive('df-8cb187be-4d87-4fda-96f8-a2585f3b10b8')\"\n",
              "              title=\"Convert this dataframe to an interactive table.\"\n",
              "              style=\"display:none;\">\n",
              "        \n",
              "  <svg xmlns=\"http://www.w3.org/2000/svg\" height=\"24px\"viewBox=\"0 0 24 24\"\n",
              "       width=\"24px\">\n",
              "    <path d=\"M0 0h24v24H0V0z\" fill=\"none\"/>\n",
              "    <path d=\"M18.56 5.44l.94 2.06.94-2.06 2.06-.94-2.06-.94-.94-2.06-.94 2.06-2.06.94zm-11 1L8.5 8.5l.94-2.06 2.06-.94-2.06-.94L8.5 2.5l-.94 2.06-2.06.94zm10 10l.94 2.06.94-2.06 2.06-.94-2.06-.94-.94-2.06-.94 2.06-2.06.94z\"/><path d=\"M17.41 7.96l-1.37-1.37c-.4-.4-.92-.59-1.43-.59-.52 0-1.04.2-1.43.59L10.3 9.45l-7.72 7.72c-.78.78-.78 2.05 0 2.83L4 21.41c.39.39.9.59 1.41.59.51 0 1.02-.2 1.41-.59l7.78-7.78 2.81-2.81c.8-.78.8-2.07 0-2.86zM5.41 20L4 18.59l7.72-7.72 1.47 1.35L5.41 20z\"/>\n",
              "  </svg>\n",
              "      </button>\n",
              "      \n",
              "  <style>\n",
              "    .colab-df-container {\n",
              "      display:flex;\n",
              "      flex-wrap:wrap;\n",
              "      gap: 12px;\n",
              "    }\n",
              "\n",
              "    .colab-df-convert {\n",
              "      background-color: #E8F0FE;\n",
              "      border: none;\n",
              "      border-radius: 50%;\n",
              "      cursor: pointer;\n",
              "      display: none;\n",
              "      fill: #1967D2;\n",
              "      height: 32px;\n",
              "      padding: 0 0 0 0;\n",
              "      width: 32px;\n",
              "    }\n",
              "\n",
              "    .colab-df-convert:hover {\n",
              "      background-color: #E2EBFA;\n",
              "      box-shadow: 0px 1px 2px rgba(60, 64, 67, 0.3), 0px 1px 3px 1px rgba(60, 64, 67, 0.15);\n",
              "      fill: #174EA6;\n",
              "    }\n",
              "\n",
              "    [theme=dark] .colab-df-convert {\n",
              "      background-color: #3B4455;\n",
              "      fill: #D2E3FC;\n",
              "    }\n",
              "\n",
              "    [theme=dark] .colab-df-convert:hover {\n",
              "      background-color: #434B5C;\n",
              "      box-shadow: 0px 1px 3px 1px rgba(0, 0, 0, 0.15);\n",
              "      filter: drop-shadow(0px 1px 2px rgba(0, 0, 0, 0.3));\n",
              "      fill: #FFFFFF;\n",
              "    }\n",
              "  </style>\n",
              "\n",
              "      <script>\n",
              "        const buttonEl =\n",
              "          document.querySelector('#df-8cb187be-4d87-4fda-96f8-a2585f3b10b8 button.colab-df-convert');\n",
              "        buttonEl.style.display =\n",
              "          google.colab.kernel.accessAllowed ? 'block' : 'none';\n",
              "\n",
              "        async function convertToInteractive(key) {\n",
              "          const element = document.querySelector('#df-8cb187be-4d87-4fda-96f8-a2585f3b10b8');\n",
              "          const dataTable =\n",
              "            await google.colab.kernel.invokeFunction('convertToInteractive',\n",
              "                                                     [key], {});\n",
              "          if (!dataTable) return;\n",
              "\n",
              "          const docLinkHtml = 'Like what you see? Visit the ' +\n",
              "            '<a target=\"_blank\" href=https://colab.research.google.com/notebooks/data_table.ipynb>data table notebook</a>'\n",
              "            + ' to learn more about interactive tables.';\n",
              "          element.innerHTML = '';\n",
              "          dataTable['output_type'] = 'display_data';\n",
              "          await google.colab.output.renderOutput(dataTable, element);\n",
              "          const docLink = document.createElement('div');\n",
              "          docLink.innerHTML = docLinkHtml;\n",
              "          element.appendChild(docLink);\n",
              "        }\n",
              "      </script>\n",
              "    </div>\n",
              "  </div>\n",
              "  "
            ]
          },
          "metadata": {},
          "execution_count": 11
        }
      ]
    },
    {
      "cell_type": "code",
      "source": [
        "df['Agebin'] = pd.cut(df['Age'], bins = [18,25, 31, 40, 50, 65], labels = ['18-25','26-30', '31-40', '41-50', '51-65'])\n",
        "df.Agebin.value_counts()"
      ],
      "metadata": {
        "colab": {
          "base_uri": "https://localhost:8080/"
        },
        "id": "ASr3I65eP4D4",
        "outputId": "5d0c8055-4625-44db-9d57-78d15f1addb6"
      },
      "execution_count": null,
      "outputs": [
        {
          "output_type": "execute_result",
          "data": {
            "text/plain": [
              "31-40    1722\n",
              "41-50    1073\n",
              "26-30     971\n",
              "51-65     549\n",
              "18-25     333\n",
              "Name: Agebin, dtype: int64"
            ]
          },
          "metadata": {},
          "execution_count": 12
        }
      ]
    },
    {
      "cell_type": "code",
      "source": [
        "df['Incomebin'] = pd.cut(df['MonthlyIncome'], bins = [0,20000, 30000,40000,50000,100000], labels = ['<20000', '<30000', '<40000', '<50000','<100000'])\n",
        "df.Incomebin.value_counts()"
      ],
      "metadata": {
        "colab": {
          "base_uri": "https://localhost:8080/"
        },
        "id": "kj6_8udhQZDU",
        "outputId": "5f41aa85-72c7-4692-ba65-84ac78144724"
      },
      "execution_count": null,
      "outputs": [
        {
          "output_type": "execute_result",
          "data": {
            "text/plain": [
              "<30000     3025\n",
              "<20000     1040\n",
              "<40000      588\n",
              "<100000       2\n",
              "<50000        0\n",
              "Name: Incomebin, dtype: int64"
            ]
          },
          "metadata": {},
          "execution_count": 13
        }
      ]
    },
    {
      "cell_type": "markdown",
      "source": [
        "Missing Value Detection and Correction"
      ],
      "metadata": {
        "id": "UBiDiXWbSPAU"
      }
    },
    {
      "cell_type": "code",
      "source": [
        "df.isnull().sum()"
      ],
      "metadata": {
        "colab": {
          "base_uri": "https://localhost:8080/"
        },
        "id": "OvPFdzlORFv5",
        "outputId": "fe0c4f0b-864d-438e-e57b-b17149f12740"
      },
      "execution_count": null,
      "outputs": [
        {
          "output_type": "execute_result",
          "data": {
            "text/plain": [
              "ProdTaken                     0\n",
              "Age                         226\n",
              "TypeofContact                25\n",
              "CityTier                      0\n",
              "DurationOfPitch             251\n",
              "Occupation                    0\n",
              "Gender                        0\n",
              "NumberOfPersonVisiting        0\n",
              "NumberOfFollowups            45\n",
              "ProductPitched                0\n",
              "PreferredPropertyStar        26\n",
              "MaritalStatus                 0\n",
              "NumberOfTrips               140\n",
              "Passport                      0\n",
              "PitchSatisfactionScore        0\n",
              "OwnCar                        0\n",
              "NumberOfChildrenVisiting     66\n",
              "Designation                   0\n",
              "MonthlyIncome               233\n",
              "Agebin                      240\n",
              "Incomebin                   233\n",
              "dtype: int64"
            ]
          },
          "metadata": {},
          "execution_count": 14
        }
      ]
    },
    {
      "cell_type": "code",
      "source": [
        "df['TypeofContact'].mode()\n",
        "df['TypeofContact']=df['TypeofContact'].fillna('Self Enquiry')\n",
        "df['TypeofContact'].isnull().sum()"
      ],
      "metadata": {
        "colab": {
          "base_uri": "https://localhost:8080/"
        },
        "id": "H_vj4v1_SHtk",
        "outputId": "886a5f81-8932-4f91-e0bd-29ed07a0e6a3"
      },
      "execution_count": null,
      "outputs": [
        {
          "output_type": "execute_result",
          "data": {
            "text/plain": [
              "0"
            ]
          },
          "metadata": {},
          "execution_count": 15
        }
      ]
    },
    {
      "cell_type": "code",
      "source": [
        "df.groupby([\"Gender\",'ProductPitched'])[\"NumberOfFollowups\"].median()\n",
        "df['NumberOfFollowups']=df.groupby([\"Gender\",'ProductPitched'])[\"NumberOfFollowups\"].apply(lambda x:x.fillna(x.median()))\n",
        "df['PreferredPropertyStar']=df.groupby([\"Designation\"])[\"PreferredPropertyStar\"].apply(lambda x:x.fillna(x.median()))\n",
        "df[df[\"PreferredPropertyStar\"].isnull()]\n",
        "\n",
        "df.groupby(['ProductPitched','NumberOfFollowups'], as_index=False)[\"DurationOfPitch\"].median()\n",
        "df[\"DurationOfPitch\"] = df.groupby([\"ProductPitched\",'NumberOfFollowups'])[\"DurationOfPitch\"].apply(lambda x: x.fillna(x.median()))\n",
        "df[df[\"DurationOfPitch\"].isnull()]"
      ],
      "metadata": {
        "colab": {
          "base_uri": "https://localhost:8080/",
          "height": 143
        },
        "id": "c5ry11VpTdJ4",
        "outputId": "90391032-991e-41ca-c271-a8d2f17d1936"
      },
      "execution_count": null,
      "outputs": [
        {
          "output_type": "execute_result",
          "data": {
            "text/plain": [
              "Empty DataFrame\n",
              "Columns: [ProdTaken, Age, TypeofContact, CityTier, DurationOfPitch, Occupation, Gender, NumberOfPersonVisiting, NumberOfFollowups, ProductPitched, PreferredPropertyStar, MaritalStatus, NumberOfTrips, Passport, PitchSatisfactionScore, OwnCar, NumberOfChildrenVisiting, Designation, MonthlyIncome, Agebin, Incomebin]\n",
              "Index: []\n",
              "\n",
              "[0 rows x 21 columns]"
            ],
            "text/html": [
              "\n",
              "  <div id=\"df-94dd2b6b-b162-45b7-a40d-2a64053aa174\">\n",
              "    <div class=\"colab-df-container\">\n",
              "      <div>\n",
              "<style scoped>\n",
              "    .dataframe tbody tr th:only-of-type {\n",
              "        vertical-align: middle;\n",
              "    }\n",
              "\n",
              "    .dataframe tbody tr th {\n",
              "        vertical-align: top;\n",
              "    }\n",
              "\n",
              "    .dataframe thead th {\n",
              "        text-align: right;\n",
              "    }\n",
              "</style>\n",
              "<table border=\"1\" class=\"dataframe\">\n",
              "  <thead>\n",
              "    <tr style=\"text-align: right;\">\n",
              "      <th></th>\n",
              "      <th>ProdTaken</th>\n",
              "      <th>Age</th>\n",
              "      <th>TypeofContact</th>\n",
              "      <th>CityTier</th>\n",
              "      <th>DurationOfPitch</th>\n",
              "      <th>Occupation</th>\n",
              "      <th>Gender</th>\n",
              "      <th>NumberOfPersonVisiting</th>\n",
              "      <th>NumberOfFollowups</th>\n",
              "      <th>ProductPitched</th>\n",
              "      <th>...</th>\n",
              "      <th>MaritalStatus</th>\n",
              "      <th>NumberOfTrips</th>\n",
              "      <th>Passport</th>\n",
              "      <th>PitchSatisfactionScore</th>\n",
              "      <th>OwnCar</th>\n",
              "      <th>NumberOfChildrenVisiting</th>\n",
              "      <th>Designation</th>\n",
              "      <th>MonthlyIncome</th>\n",
              "      <th>Agebin</th>\n",
              "      <th>Incomebin</th>\n",
              "    </tr>\n",
              "  </thead>\n",
              "  <tbody>\n",
              "  </tbody>\n",
              "</table>\n",
              "<p>0 rows × 21 columns</p>\n",
              "</div>\n",
              "      <button class=\"colab-df-convert\" onclick=\"convertToInteractive('df-94dd2b6b-b162-45b7-a40d-2a64053aa174')\"\n",
              "              title=\"Convert this dataframe to an interactive table.\"\n",
              "              style=\"display:none;\">\n",
              "        \n",
              "  <svg xmlns=\"http://www.w3.org/2000/svg\" height=\"24px\"viewBox=\"0 0 24 24\"\n",
              "       width=\"24px\">\n",
              "    <path d=\"M0 0h24v24H0V0z\" fill=\"none\"/>\n",
              "    <path d=\"M18.56 5.44l.94 2.06.94-2.06 2.06-.94-2.06-.94-.94-2.06-.94 2.06-2.06.94zm-11 1L8.5 8.5l.94-2.06 2.06-.94-2.06-.94L8.5 2.5l-.94 2.06-2.06.94zm10 10l.94 2.06.94-2.06 2.06-.94-2.06-.94-.94-2.06-.94 2.06-2.06.94z\"/><path d=\"M17.41 7.96l-1.37-1.37c-.4-.4-.92-.59-1.43-.59-.52 0-1.04.2-1.43.59L10.3 9.45l-7.72 7.72c-.78.78-.78 2.05 0 2.83L4 21.41c.39.39.9.59 1.41.59.51 0 1.02-.2 1.41-.59l7.78-7.78 2.81-2.81c.8-.78.8-2.07 0-2.86zM5.41 20L4 18.59l7.72-7.72 1.47 1.35L5.41 20z\"/>\n",
              "  </svg>\n",
              "      </button>\n",
              "      \n",
              "  <style>\n",
              "    .colab-df-container {\n",
              "      display:flex;\n",
              "      flex-wrap:wrap;\n",
              "      gap: 12px;\n",
              "    }\n",
              "\n",
              "    .colab-df-convert {\n",
              "      background-color: #E8F0FE;\n",
              "      border: none;\n",
              "      border-radius: 50%;\n",
              "      cursor: pointer;\n",
              "      display: none;\n",
              "      fill: #1967D2;\n",
              "      height: 32px;\n",
              "      padding: 0 0 0 0;\n",
              "      width: 32px;\n",
              "    }\n",
              "\n",
              "    .colab-df-convert:hover {\n",
              "      background-color: #E2EBFA;\n",
              "      box-shadow: 0px 1px 2px rgba(60, 64, 67, 0.3), 0px 1px 3px 1px rgba(60, 64, 67, 0.15);\n",
              "      fill: #174EA6;\n",
              "    }\n",
              "\n",
              "    [theme=dark] .colab-df-convert {\n",
              "      background-color: #3B4455;\n",
              "      fill: #D2E3FC;\n",
              "    }\n",
              "\n",
              "    [theme=dark] .colab-df-convert:hover {\n",
              "      background-color: #434B5C;\n",
              "      box-shadow: 0px 1px 3px 1px rgba(0, 0, 0, 0.15);\n",
              "      filter: drop-shadow(0px 1px 2px rgba(0, 0, 0, 0.3));\n",
              "      fill: #FFFFFF;\n",
              "    }\n",
              "  </style>\n",
              "\n",
              "      <script>\n",
              "        const buttonEl =\n",
              "          document.querySelector('#df-94dd2b6b-b162-45b7-a40d-2a64053aa174 button.colab-df-convert');\n",
              "        buttonEl.style.display =\n",
              "          google.colab.kernel.accessAllowed ? 'block' : 'none';\n",
              "\n",
              "        async function convertToInteractive(key) {\n",
              "          const element = document.querySelector('#df-94dd2b6b-b162-45b7-a40d-2a64053aa174');\n",
              "          const dataTable =\n",
              "            await google.colab.kernel.invokeFunction('convertToInteractive',\n",
              "                                                     [key], {});\n",
              "          if (!dataTable) return;\n",
              "\n",
              "          const docLinkHtml = 'Like what you see? Visit the ' +\n",
              "            '<a target=\"_blank\" href=https://colab.research.google.com/notebooks/data_table.ipynb>data table notebook</a>'\n",
              "            + ' to learn more about interactive tables.';\n",
              "          element.innerHTML = '';\n",
              "          dataTable['output_type'] = 'display_data';\n",
              "          await google.colab.output.renderOutput(dataTable, element);\n",
              "          const docLink = document.createElement('div');\n",
              "          docLink.innerHTML = docLinkHtml;\n",
              "          element.appendChild(docLink);\n",
              "        }\n",
              "      </script>\n",
              "    </div>\n",
              "  </div>\n",
              "  "
            ]
          },
          "metadata": {},
          "execution_count": 16
        }
      ]
    },
    {
      "cell_type": "code",
      "source": [
        "df.groupby(['MaritalStatus'])[\"NumberOfTrips\"].median()\n",
        "df[\"NumberOfTrips\"] = df.groupby([\"MaritalStatus\"])[\"NumberOfTrips\"].apply(lambda x: x.fillna(x.median()))\n",
        "\n",
        "df['NumberOfChildrenVisiting']=df['NumberOfChildrenVisiting'].fillna(0)\n",
        "\n",
        "df.groupby([\"Designation\", \"Gender\",\"MaritalStatus\"])[\"Age\"].median()\n",
        "df[\"Age\"] = df.groupby([\"Designation\", \"Gender\",\"MaritalStatus\"])[\"Age\"].apply(lambda x: x.fillna(x.median()))\n",
        "\n",
        "df.groupby([\"Occupation\",'Designation','Gender'])[\"MonthlyIncome\"].median()\n",
        "df[\"MonthlyIncome\"]=df.groupby([\"Occupation\",'Designation','Gender'])[\"MonthlyIncome\"].apply(lambda x: x.fillna(x.median()))"
      ],
      "metadata": {
        "id": "J1tP-g4dYnaC"
      },
      "execution_count": null,
      "outputs": []
    },
    {
      "cell_type": "code",
      "source": [
        "df['Agebin'] = pd.cut(df['Age'], bins = [15,25, 31, 40, 50, 70], labels = ['15-25','26-30', '31-40', '41-50', '51-70'])\n",
        "\n",
        "df['Incomebin'] = pd.cut(df['MonthlyIncome'], bins = [0,20000,30000,40000,50000,100000], labels = ['<20000', '<30000','<40000','<50000','<100000'])\n"
      ],
      "metadata": {
        "id": "rlmTr_kkZ6ye"
      },
      "execution_count": null,
      "outputs": []
    },
    {
      "cell_type": "code",
      "source": [
        "df.isnull().sum()"
      ],
      "metadata": {
        "colab": {
          "base_uri": "https://localhost:8080/"
        },
        "id": "aeqOFlbSZo77",
        "outputId": "abd8aae1-b964-406a-b9fd-ecc123cd63ba"
      },
      "execution_count": null,
      "outputs": [
        {
          "output_type": "execute_result",
          "data": {
            "text/plain": [
              "ProdTaken                   0\n",
              "Age                         0\n",
              "TypeofContact               0\n",
              "CityTier                    0\n",
              "DurationOfPitch             0\n",
              "Occupation                  0\n",
              "Gender                      0\n",
              "NumberOfPersonVisiting      0\n",
              "NumberOfFollowups           0\n",
              "ProductPitched              0\n",
              "PreferredPropertyStar       0\n",
              "MaritalStatus               0\n",
              "NumberOfTrips               0\n",
              "Passport                    0\n",
              "PitchSatisfactionScore      0\n",
              "OwnCar                      0\n",
              "NumberOfChildrenVisiting    0\n",
              "Designation                 0\n",
              "MonthlyIncome               0\n",
              "Agebin                      0\n",
              "Incomebin                   0\n",
              "dtype: int64"
            ]
          },
          "metadata": {},
          "execution_count": 19
        }
      ]
    },
    {
      "cell_type": "markdown",
      "source": [
        "**Customer Profile**"
      ],
      "metadata": {
        "id": "zQeVU2irdtco"
      }
    },
    {
      "cell_type": "code",
      "source": [
        "cust_prof=df[df['ProdTaken']==1]\n",
        "sns.countplot(x=\"ProductPitched\", data=cust_prof)"
      ],
      "metadata": {
        "colab": {
          "base_uri": "https://localhost:8080/",
          "height": 296
        },
        "id": "68hoCvt_Z5Uy",
        "outputId": "7e125a20-c111-4b32-9d6f-b0e7b8b6b635"
      },
      "execution_count": null,
      "outputs": [
        {
          "output_type": "execute_result",
          "data": {
            "text/plain": [
              "<AxesSubplot:xlabel='ProductPitched', ylabel='count'>"
            ]
          },
          "metadata": {},
          "execution_count": 20
        },
        {
          "output_type": "display_data",
          "data": {
            "text/plain": [
              "<Figure size 432x288 with 1 Axes>"
            ],
            "image/png": "[encoded data removed]"
          },
          "metadata": {
            "needs_background": "light"
          }
        }
      ]
    },
    {
      "cell_type": "code",
      "source": [
        "sns.countplot(x='Agebin',hue='ProductPitched',data=cust_prof).set_title('Agebin Product wise')"
      ],
      "metadata": {
        "colab": {
          "base_uri": "https://localhost:8080/",
          "height": 312
        },
        "id": "QBi0-FpxdPkn",
        "outputId": "6538bd7f-c3fa-4a89-91e9-0463d408cf05"
      },
      "execution_count": null,
      "outputs": [
        {
          "output_type": "execute_result",
          "data": {
            "text/plain": [
              "Text(0.5, 1.0, 'Agebin Product wise')"
            ]
          },
          "metadata": {},
          "execution_count": 21
        },
        {
          "output_type": "display_data",
          "data": {
            "text/plain": [
              "<Figure size 432x288 with 1 Axes>"
            ],
            "image/png": "[encoded data removed]"
          },
          "metadata": {
            "needs_background": "light"
          }
        }
      ]
    },
    {
      "cell_type": "code",
      "source": [
        "sns.countplot(x='Incomebin',hue='ProductPitched',data=cust_prof).set_title('Incomebin Product Pitched')"
      ],
      "metadata": {
        "colab": {
          "base_uri": "https://localhost:8080/",
          "height": 312
        },
        "id": "GKVQaojod_iw",
        "outputId": "d740cebc-d1ce-418e-c00c-21e1faa6ea65"
      },
      "execution_count": null,
      "outputs": [
        {
          "output_type": "execute_result",
          "data": {
            "text/plain": [
              "Text(0.5, 1.0, 'Incomebin Product Pitched')"
            ]
          },
          "metadata": {},
          "execution_count": 22
        },
        {
          "output_type": "display_data",
          "data": {
            "text/plain": [
              "<Figure size 432x288 with 1 Axes>"
            ],
            "image/png": "[encoded data removed]"
          },
          "metadata": {
            "needs_background": "light"
          }
        }
      ]
    },
    {
      "cell_type": "code",
      "source": [
        "sns.barplot(y='Age',x='ProductPitched',data=cust_prof).set_title('Age vs Product Pitched')"
      ],
      "metadata": {
        "colab": {
          "base_uri": "https://localhost:8080/",
          "height": 312
        },
        "id": "18LQkQ2HeIcY",
        "outputId": "7a820081-4543-45cb-e2ab-9d8cb8a2c247"
      },
      "execution_count": null,
      "outputs": [
        {
          "output_type": "execute_result",
          "data": {
            "text/plain": [
              "Text(0.5, 1.0, 'Age vs Product Pitched')"
            ]
          },
          "metadata": {},
          "execution_count": 23
        },
        {
          "output_type": "display_data",
          "data": {
            "text/plain": [
              "<Figure size 432x288 with 1 Axes>"
            ],
            "image/png": "[encoded data removed]"
          },
          "metadata": {
            "needs_background": "light"
          }
        }
      ]
    },
    {
      "cell_type": "code",
      "source": [
        "sns.countplot(x=\"ProductPitched\", data=cust_prof,  hue=\"Occupation\")"
      ],
      "metadata": {
        "colab": {
          "base_uri": "https://localhost:8080/",
          "height": 296
        },
        "id": "y-utUeJreK4Y",
        "outputId": "c5766300-1537-42ea-d0b7-fb2be82f51be"
      },
      "execution_count": null,
      "outputs": [
        {
          "output_type": "execute_result",
          "data": {
            "text/plain": [
              "<AxesSubplot:xlabel='ProductPitched', ylabel='count'>"
            ]
          },
          "metadata": {},
          "execution_count": 24
        },
        {
          "output_type": "display_data",
          "data": {
            "text/plain": [
              "<Figure size 432x288 with 1 Axes>"
            ],
            "image/png": "[encoded data removed]"
          },
          "metadata": {
            "needs_background": "light"
          }
        }
      ]
    },
    {
      "cell_type": "code",
      "source": [
        "sns.countplot(x=\"ProductPitched\", data=cust_prof,  hue=\"Gender\")"
      ],
      "metadata": {
        "colab": {
          "base_uri": "https://localhost:8080/",
          "height": 296
        },
        "id": "ja6br05CeMuA",
        "outputId": "54d21345-c2ac-469a-ab35-cd8760603cf5"
      },
      "execution_count": null,
      "outputs": [
        {
          "output_type": "execute_result",
          "data": {
            "text/plain": [
              "<AxesSubplot:xlabel='ProductPitched', ylabel='count'>"
            ]
          },
          "metadata": {},
          "execution_count": 25
        },
        {
          "output_type": "display_data",
          "data": {
            "text/plain": [
              "<Figure size 432x288 with 1 Axes>"
            ],
            "image/png": "[encoded data removed]"
          },
          "metadata": {
            "needs_background": "light"
          }
        }
      ]
    },
    {
      "cell_type": "code",
      "source": [
        "sns.countplot(x=\"ProductPitched\", data=cust_prof,  hue=\"MaritalStatus\")"
      ],
      "metadata": {
        "colab": {
          "base_uri": "https://localhost:8080/",
          "height": 296
        },
        "id": "u4KLE2wXeRjI",
        "outputId": "34b00790-743b-451f-be25-097fc3004649"
      },
      "execution_count": null,
      "outputs": [
        {
          "output_type": "execute_result",
          "data": {
            "text/plain": [
              "<AxesSubplot:xlabel='ProductPitched', ylabel='count'>"
            ]
          },
          "metadata": {},
          "execution_count": 26
        },
        {
          "output_type": "display_data",
          "data": {
            "text/plain": [
              "<Figure size 432x288 with 1 Axes>"
            ],
            "image/png": "[encoded data removed]"
          },
          "metadata": {
            "needs_background": "light"
          }
        }
      ]
    },
    {
      "cell_type": "code",
      "source": [
        "sns.barplot(y='MonthlyIncome',x='ProductPitched',data=cust_prof).set_title('Monthly Income vs Product Pitched')"
      ],
      "metadata": {
        "colab": {
          "base_uri": "https://localhost:8080/",
          "height": 312
        },
        "id": "aP96Cj7beT8Q",
        "outputId": "a9593b89-c45c-4ce2-b5da-0bd19549c549"
      },
      "execution_count": null,
      "outputs": [
        {
          "output_type": "execute_result",
          "data": {
            "text/plain": [
              "Text(0.5, 1.0, 'Monthly Income vs Product Pitched')"
            ]
          },
          "metadata": {},
          "execution_count": 27
        },
        {
          "output_type": "display_data",
          "data": {
            "text/plain": [
              "<Figure size 432x288 with 1 Axes>"
            ],
            "image/png": "[encoded data removed]"
          },
          "metadata": {
            "needs_background": "light"
          }
        }
      ]
    },
    {
      "cell_type": "code",
      "source": [
        "sns.barplot(x='Designation',y='MonthlyIncome',data=cust_prof,hue='ProductPitched').set_title('Designation vs Income')\n",
        "plt.legend(bbox_to_anchor=(1, 1))"
      ],
      "metadata": {
        "colab": {
          "base_uri": "https://localhost:8080/",
          "height": 312
        },
        "id": "YhP5zzXxeVhI",
        "outputId": "5cb0be02-44e3-4336-ce71-3877d18dbfaf"
      },
      "execution_count": null,
      "outputs": [
        {
          "output_type": "execute_result",
          "data": {
            "text/plain": [
              "<matplotlib.legend.Legend at 0x7fcade9b1a00>"
            ]
          },
          "metadata": {},
          "execution_count": 28
        },
        {
          "output_type": "display_data",
          "data": {
            "text/plain": [
              "<Figure size 432x288 with 1 Axes>"
            ],
            "image/png": "[encoded data removed]"
          },
          "metadata": {
            "needs_background": "light"
          }
        }
      ]
    },
    {
      "cell_type": "code",
      "source": [
        "sns.countplot(x=\"ProductPitched\", data=cust_prof,  hue=\"PreferredPropertyStar\")"
      ],
      "metadata": {
        "colab": {
          "base_uri": "https://localhost:8080/",
          "height": 296
        },
        "id": "opVypE9yeZvA",
        "outputId": "0088f2f3-5b00-405e-d5dc-d40cd14dd6b5"
      },
      "execution_count": null,
      "outputs": [
        {
          "output_type": "execute_result",
          "data": {
            "text/plain": [
              "<AxesSubplot:xlabel='ProductPitched', ylabel='count'>"
            ]
          },
          "metadata": {},
          "execution_count": 29
        },
        {
          "output_type": "display_data",
          "data": {
            "text/plain": [
              "<Figure size 432x288 with 1 Axes>"
            ],
            "image/png": "[encoded data removed]"
          },
          "metadata": {
            "needs_background": "light"
          }
        }
      ]
    },
    {
      "cell_type": "code",
      "source": [
        "sns.countplot(x=\"ProductPitched\", data=cust_prof,  hue=\"OwnCar\")"
      ],
      "metadata": {
        "colab": {
          "base_uri": "https://localhost:8080/",
          "height": 296
        },
        "id": "uMkjj0Dhegeg",
        "outputId": "50c8b08b-e054-423f-cdbb-38b7654de553"
      },
      "execution_count": null,
      "outputs": [
        {
          "output_type": "execute_result",
          "data": {
            "text/plain": [
              "<AxesSubplot:xlabel='ProductPitched', ylabel='count'>"
            ]
          },
          "metadata": {},
          "execution_count": 30
        },
        {
          "output_type": "display_data",
          "data": {
            "text/plain": [
              "<Figure size 432x288 with 1 Axes>"
            ],
            "image/png": "[encoded data removed]"
          },
          "metadata": {
            "needs_background": "light"
          }
        }
      ]
    },
    {
      "cell_type": "code",
      "source": [
        "sns.countplot(x=\"ProductPitched\", data=cust_prof,  hue=\"CityTier\")"
      ],
      "metadata": {
        "colab": {
          "base_uri": "https://localhost:8080/",
          "height": 296
        },
        "id": "rRkjKXVmeicX",
        "outputId": "76312cbf-5ecb-4f5e-a51f-ecdb26fbb936"
      },
      "execution_count": null,
      "outputs": [
        {
          "output_type": "execute_result",
          "data": {
            "text/plain": [
              "<AxesSubplot:xlabel='ProductPitched', ylabel='count'>"
            ]
          },
          "metadata": {},
          "execution_count": 31
        },
        {
          "output_type": "display_data",
          "data": {
            "text/plain": [
              "<Figure size 432x288 with 1 Axes>"
            ],
            "image/png": "[encoded data removed]"
          },
          "metadata": {
            "needs_background": "light"
          }
        }
      ]
    },
    {
      "cell_type": "code",
      "source": [
        "cust_prof.groupby(['ProductPitched']).agg({'MonthlyIncome':{'mean','min','max'},'Age':{'mean','min','max'}})"
      ],
      "metadata": {
        "colab": {
          "base_uri": "https://localhost:8080/",
          "height": 269
        },
        "id": "9A8PC1e2ej2R",
        "outputId": "2c31eddd-03bc-4a95-948a-3b8871655f6c"
      },
      "execution_count": null,
      "outputs": [
        {
          "output_type": "execute_result",
          "data": {
            "text/plain": [
              "               MonthlyIncome                          Age                 \n",
              "                         max          mean      min   max       mean   min\n",
              "ProductPitched                                                            \n",
              "Basic                37868.0  20179.108696  16009.0  59.0  31.264493  18.0\n",
              "Deluxe               38525.0  23093.333333  17086.0  59.0  37.590686  21.0\n",
              "King                 38537.0  34672.100000  17517.0  59.0  48.900000  27.0\n",
              "Standard             38395.0  26035.419355  17372.0  60.0  40.991935  19.0\n",
              "Super Deluxe         37502.0  29823.800000  21151.0  56.0  43.500000  39.0"
            ],
            "text/html": [
              "\n",
              "  <div id=\"df-a25548a7-6efc-421e-94a8-f155fd0b0002\">\n",
              "    <div class=\"colab-df-container\">\n",
              "      <div>\n",
              "<style scoped>\n",
              "    .dataframe tbody tr th:only-of-type {\n",
              "        vertical-align: middle;\n",
              "    }\n",
              "\n",
              "    .dataframe tbody tr th {\n",
              "        vertical-align: top;\n",
              "    }\n",
              "\n",
              "    .dataframe thead tr th {\n",
              "        text-align: left;\n",
              "    }\n",
              "\n",
              "    .dataframe thead tr:last-of-type th {\n",
              "        text-align: right;\n",
              "    }\n",
              "</style>\n",
              "<table border=\"1\" class=\"dataframe\">\n",
              "  <thead>\n",
              "    <tr>\n",
              "      <th></th>\n",
              "      <th colspan=\"3\" halign=\"left\">MonthlyIncome</th>\n",
              "      <th colspan=\"3\" halign=\"left\">Age</th>\n",
              "    </tr>\n",
              "    <tr>\n",
              "      <th></th>\n",
              "      <th>max</th>\n",
              "      <th>mean</th>\n",
              "      <th>min</th>\n",
              "      <th>max</th>\n",
              "      <th>mean</th>\n",
              "      <th>min</th>\n",
              "    </tr>\n",
              "    <tr>\n",
              "      <th>ProductPitched</th>\n",
              "      <th></th>\n",
              "      <th></th>\n",
              "      <th></th>\n",
              "      <th></th>\n",
              "      <th></th>\n",
              "      <th></th>\n",
              "    </tr>\n",
              "  </thead>\n",
              "  <tbody>\n",
              "    <tr>\n",
              "      <th>Basic</th>\n",
              "      <td>37868.0</td>\n",
              "      <td>20179.108696</td>\n",
              "      <td>16009.0</td>\n",
              "      <td>59.0</td>\n",
              "      <td>31.264493</td>\n",
              "      <td>18.0</td>\n",
              "    </tr>\n",
              "    <tr>\n",
              "      <th>Deluxe</th>\n",
              "      <td>38525.0</td>\n",
              "      <td>23093.333333</td>\n",
              "      <td>17086.0</td>\n",
              "      <td>59.0</td>\n",
              "      <td>37.590686</td>\n",
              "      <td>21.0</td>\n",
              "    </tr>\n",
              "    <tr>\n",
              "      <th>King</th>\n",
              "      <td>38537.0</td>\n",
              "      <td>34672.100000</td>\n",
              "      <td>17517.0</td>\n",
              "      <td>59.0</td>\n",
              "      <td>48.900000</td>\n",
              "      <td>27.0</td>\n",
              "    </tr>\n",
              "    <tr>\n",
              "      <th>Standard</th>\n",
              "      <td>38395.0</td>\n",
              "      <td>26035.419355</td>\n",
              "      <td>17372.0</td>\n",
              "      <td>60.0</td>\n",
              "      <td>40.991935</td>\n",
              "      <td>19.0</td>\n",
              "    </tr>\n",
              "    <tr>\n",
              "      <th>Super Deluxe</th>\n",
              "      <td>37502.0</td>\n",
              "      <td>29823.800000</td>\n",
              "      <td>21151.0</td>\n",
              "      <td>56.0</td>\n",
              "      <td>43.500000</td>\n",
              "      <td>39.0</td>\n",
              "    </tr>\n",
              "  </tbody>\n",
              "</table>\n",
              "</div>\n",
              "      <button class=\"colab-df-convert\" onclick=\"convertToInteractive('df-a25548a7-6efc-421e-94a8-f155fd0b0002')\"\n",
              "              title=\"Convert this dataframe to an interactive table.\"\n",
              "              style=\"display:none;\">\n",
              "        \n",
              "  <svg xmlns=\"http://www.w3.org/2000/svg\" height=\"24px\"viewBox=\"0 0 24 24\"\n",
              "       width=\"24px\">\n",
              "    <path d=\"M0 0h24v24H0V0z\" fill=\"none\"/>\n",
              "    <path d=\"M18.56 5.44l.94 2.06.94-2.06 2.06-.94-2.06-.94-.94-2.06-.94 2.06-2.06.94zm-11 1L8.5 8.5l.94-2.06 2.06-.94-2.06-.94L8.5 2.5l-.94 2.06-2.06.94zm10 10l.94 2.06.94-2.06 2.06-.94-2.06-.94-.94-2.06-.94 2.06-2.06.94z\"/><path d=\"M17.41 7.96l-1.37-1.37c-.4-.4-.92-.59-1.43-.59-.52 0-1.04.2-1.43.59L10.3 9.45l-7.72 7.72c-.78.78-.78 2.05 0 2.83L4 21.41c.39.39.9.59 1.41.59.51 0 1.02-.2 1.41-.59l7.78-7.78 2.81-2.81c.8-.78.8-2.07 0-2.86zM5.41 20L4 18.59l7.72-7.72 1.47 1.35L5.41 20z\"/>\n",
              "  </svg>\n",
              "      </button>\n",
              "      \n",
              "  <style>\n",
              "    .colab-df-container {\n",
              "      display:flex;\n",
              "      flex-wrap:wrap;\n",
              "      gap: 12px;\n",
              "    }\n",
              "\n",
              "    .colab-df-convert {\n",
              "      background-color: #E8F0FE;\n",
              "      border: none;\n",
              "      border-radius: 50%;\n",
              "      cursor: pointer;\n",
              "      display: none;\n",
              "      fill: #1967D2;\n",
              "      height: 32px;\n",
              "      padding: 0 0 0 0;\n",
              "      width: 32px;\n",
              "    }\n",
              "\n",
              "    .colab-df-convert:hover {\n",
              "      background-color: #E2EBFA;\n",
              "      box-shadow: 0px 1px 2px rgba(60, 64, 67, 0.3), 0px 1px 3px 1px rgba(60, 64, 67, 0.15);\n",
              "      fill: #174EA6;\n",
              "    }\n",
              "\n",
              "    [theme=dark] .colab-df-convert {\n",
              "      background-color: #3B4455;\n",
              "      fill: #D2E3FC;\n",
              "    }\n",
              "\n",
              "    [theme=dark] .colab-df-convert:hover {\n",
              "      background-color: #434B5C;\n",
              "      box-shadow: 0px 1px 3px 1px rgba(0, 0, 0, 0.15);\n",
              "      filter: drop-shadow(0px 1px 2px rgba(0, 0, 0, 0.3));\n",
              "      fill: #FFFFFF;\n",
              "    }\n",
              "  </style>\n",
              "\n",
              "      <script>\n",
              "        const buttonEl =\n",
              "          document.querySelector('#df-a25548a7-6efc-421e-94a8-f155fd0b0002 button.colab-df-convert');\n",
              "        buttonEl.style.display =\n",
              "          google.colab.kernel.accessAllowed ? 'block' : 'none';\n",
              "\n",
              "        async function convertToInteractive(key) {\n",
              "          const element = document.querySelector('#df-a25548a7-6efc-421e-94a8-f155fd0b0002');\n",
              "          const dataTable =\n",
              "            await google.colab.kernel.invokeFunction('convertToInteractive',\n",
              "                                                     [key], {});\n",
              "          if (!dataTable) return;\n",
              "\n",
              "          const docLinkHtml = 'Like what you see? Visit the ' +\n",
              "            '<a target=\"_blank\" href=https://colab.research.google.com/notebooks/data_table.ipynb>data table notebook</a>'\n",
              "            + ' to learn more about interactive tables.';\n",
              "          element.innerHTML = '';\n",
              "          dataTable['output_type'] = 'display_data';\n",
              "          await google.colab.output.renderOutput(dataTable, element);\n",
              "          const docLink = document.createElement('div');\n",
              "          docLink.innerHTML = docLinkHtml;\n",
              "          element.appendChild(docLink);\n",
              "        }\n",
              "      </script>\n",
              "    </div>\n",
              "  </div>\n",
              "  "
            ]
          },
          "metadata": {},
          "execution_count": 32
        }
      ]
    },
    {
      "cell_type": "code",
      "source": [
        "def stacked_plot(x):\n",
        "    sns.set_palette(sns.color_palette(\"nipy_spectral\", 8))\n",
        "    tab1 = pd.crosstab(x,df['ProdTaken'],margins=True)\n",
        "    print(tab1)\n",
        "    print('_'*120)\n",
        "    tab = pd.crosstab(x,df['ProdTaken'],normalize='index')\n",
        "    tab.plot(kind='bar',stacked=True,figsize=(7,4))\n",
        "    plt.xticks(rotation=360)\n",
        "    labels=[\"No\",\"Yes\"]\n",
        "    plt.legend(loc='lower left', frameon=False,)\n",
        "    plt.legend(loc=\"upper left\", labels=labels,title=\"Product Taken\",bbox_to_anchor=(1,1))"
      ],
      "metadata": {
        "id": "uUNKxz3yem4Z"
      },
      "execution_count": null,
      "outputs": []
    },
    {
      "cell_type": "code",
      "source": [
        "list_columns=['TypeofContact','CityTier','Occupation','Gender','NumberOfPersonVisiting',\n",
        "              'ProductPitched','PreferredPropertyStar','NumberOfTrips','MaritalStatus','Passport','OwnCar','Designation','Agebin','Incomebin','PitchSatisfactionScore','NumberOfFollowups']\n",
        "for i, variable in enumerate(list_columns):\n",
        "       stacked_plot(df[variable])"
      ],
      "metadata": {
        "colab": {
          "base_uri": "https://localhost:8080/",
          "height": 1000
        },
        "id": "cwXjI6XverSx",
        "outputId": "f19c185d-c8ba-46e7-c3f3-c5a92f4e0bc4"
      },
      "execution_count": null,
      "outputs": [
        {
          "output_type": "stream",
          "name": "stdout",
          "text": [
            "ProdTaken           0    1   All\n",
            "TypeofContact                   \n",
            "Company Invited  1109  310  1419\n",
            "Self Enquiry     2859  610  3469\n",
            "All              3968  920  4888\n",
            "________________________________________________________________________________________________________________________\n",
            "ProdTaken     0    1   All\n",
            "CityTier                  \n",
            "1          2670  520  3190\n",
            "2           152   46   198\n",
            "3          1146  354  1500\n",
            "All        3968  920  4888\n",
            "________________________________________________________________________________________________________________________\n",
            "ProdTaken          0    1   All\n",
            "Occupation                     \n",
            "Free Lancer        0    2     2\n",
            "Large Business   314  120   434\n",
            "Salaried        1954  414  2368\n",
            "Small Business  1700  384  2084\n",
            "All             3968  920  4888\n",
            "________________________________________________________________________________________________________________________\n",
            "ProdTaken     0    1   All\n",
            "Gender                    \n",
            "Female     1630  342  1972\n",
            "Male       2338  578  2916\n",
            "All        3968  920  4888\n",
            "________________________________________________________________________________________________________________________\n",
            "ProdTaken                  0    1   All\n",
            "NumberOfPersonVisiting                 \n",
            "1                         39    0    39\n",
            "2                       1151  267  1418\n",
            "3                       1942  460  2402\n",
            "4                        833  193  1026\n",
            "5                          3    0     3\n",
            "All                     3968  920  4888\n",
            "________________________________________________________________________________________________________________________\n",
            "ProdTaken          0    1   All\n",
            "ProductPitched                 \n",
            "Basic           1290  552  1842\n",
            "Deluxe          1528  204  1732\n",
            "King             210   20   230\n",
            "Standard         618  124   742\n",
            "Super Deluxe     322   20   342\n",
            "All             3968  920  4888\n",
            "________________________________________________________________________________________________________________________\n",
            "ProdTaken                 0    1   All\n",
            "PreferredPropertyStar                 \n",
            "3.0                    2531  488  3019\n",
            "4.0                     731  182   913\n",
            "5.0                     706  250   956\n",
            "All                    3968  920  4888\n",
            "________________________________________________________________________________________________________________________\n",
            "ProdTaken         0    1   All\n",
            "NumberOfTrips                 \n",
            "1.0             508  112   620\n",
            "2.0            1186  305  1491\n",
            "3.0             969  223  1192\n",
            "4.0             417   61   478\n",
            "5.0             396   62   458\n",
            "6.0             258   64   322\n",
            "7.0             156   62   218\n",
            "8.0              76   29   105\n",
            "19.0              0    1     1\n",
            "20.0              0    1     1\n",
            "21.0              1    0     1\n",
            "22.0              1    0     1\n",
            "All            3968  920  4888\n",
            "________________________________________________________________________________________________________________________\n",
            "ProdTaken         0    1   All\n",
            "MaritalStatus                 \n",
            "Divorced        826  124   950\n",
            "Married        2014  326  2340\n",
            "Single          612  304   916\n",
            "Unmarried       516  166   682\n",
            "All            3968  920  4888\n",
            "________________________________________________________________________________________________________________________\n",
            "ProdTaken     0    1   All\n",
            "Passport                  \n",
            "0          3040  426  3466\n",
            "1           928  494  1422\n",
            "All        3968  920  4888\n",
            "________________________________________________________________________________________________________________________\n",
            "ProdTaken     0    1   All\n",
            "OwnCar                    \n",
            "0          1496  360  1856\n",
            "1          2472  560  3032\n",
            "All        3968  920  4888\n",
            "________________________________________________________________________________________________________________________\n",
            "ProdTaken          0    1   All\n",
            "Designation                    \n",
            "AVP              322   20   342\n",
            "Executive       1290  552  1842\n",
            "Manager         1528  204  1732\n",
            "Senior Manager   618  124   742\n",
            "VP               210   20   230\n",
            "All             3968  920  4888\n",
            "________________________________________________________________________________________________________________________\n",
            "ProdTaken     0    1   All\n",
            "Agebin                    \n",
            "15-25       204  143   347\n",
            "26-30       765  260  1025\n",
            "31-40      1610  284  1894\n",
            "41-50       929  144  1073\n",
            "51-70       460   89   549\n",
            "All        3968  920  4888\n",
            "________________________________________________________________________________________________________________________\n",
            "ProdTaken     0    1   All\n",
            "Incomebin                 \n",
            "<20000      756  284  1040\n",
            "<30000     2682  576  3258\n",
            "<40000      528   60   588\n",
            "<100000       2    0     2\n",
            "All        3968  920  4888\n",
            "________________________________________________________________________________________________________________________\n",
            "ProdTaken                  0    1   All\n",
            "PitchSatisfactionScore                 \n",
            "1                        798  144   942\n",
            "2                        498   88   586\n",
            "3                       1162  316  1478\n",
            "4                        750  162   912\n",
            "5                        760  210   970\n",
            "All                     3968  920  4888\n",
            "________________________________________________________________________________________________________________________\n",
            "ProdTaken             0    1   All\n",
            "NumberOfFollowups                 \n",
            "1.0                 156   20   176\n",
            "2.0                 205   24   229\n",
            "3.0                1222  244  1466\n",
            "4.0                1726  387  2113\n",
            "5.0                 577  191   768\n",
            "6.0                  82   54   136\n",
            "All                3968  920  4888\n",
            "________________________________________________________________________________________________________________________\n"
          ]
        },
        {
          "output_type": "display_data",
          "data": {
            "text/plain": [
              "<Figure size 504x288 with 1 Axes>"
            ],
            "image/png": "[encoded data removed]"
          },
          "metadata": {
            "needs_background": "light"
          }
        },
        {
          "output_type": "display_data",
          "data": {
            "text/plain": [
              "<Figure size 504x288 with 1 Axes>"
            ],
            "image/png": "[encoded data removed]"
          },
          "metadata": {
            "needs_background": "light"
          }
        },
        {
          "output_type": "display_data",
          "data": {
            "text/plain": [
              "<Figure size 504x288 with 1 Axes>"
            ],
            "image/png": "[encoded data removed]"
          },
          "metadata": {
            "needs_background": "light"
          }
        },
        {
          "output_type": "display_data",
          "data": {
            "text/plain": [
              "<Figure size 504x288 with 1 Axes>"
            ],
            "image/png": "[encoded data removed]"
          },
          "metadata": {
            "needs_background": "light"
          }
        },
        {
          "output_type": "display_data",
          "data": {
            "text/plain": [
              "<Figure size 504x288 with 1 Axes>"
            ],
            "image/png": "[encoded data removed]"
          },
          "metadata": {
            "needs_background": "light"
          }
        },
        {
          "output_type": "display_data",
          "data": {
            "text/plain": [
              "<Figure size 504x288 with 1 Axes>"
            ],
            "image/png": "[encoded data removed]"
          },
          "metadata": {
            "needs_background": "light"
          }
        },
        {
          "output_type": "display_data",
          "data": {
            "text/plain": [
              "<Figure size 504x288 with 1 Axes>"
            ],
            "image/png": "[encoded data removed]"
          },
          "metadata": {
            "needs_background": "light"
          }
        },
        {
          "output_type": "display_data",
          "data": {
            "text/plain": [
              "<Figure size 504x288 with 1 Axes>"
            ],
            "image/png": "[encoded data removed]"
          },
          "metadata": {
            "needs_background": "light"
          }
        },
        {
          "output_type": "display_data",
          "data": {
            "text/plain": [
              "<Figure size 504x288 with 1 Axes>"
            ],
            "image/png": "[encoded data removed]"
          },
          "metadata": {
            "needs_background": "light"
          }
        },
        {
          "output_type": "display_data",
          "data": {
            "text/plain": [
              "<Figure size 504x288 with 1 Axes>"
            ],
            "image/png": "[encoded data removed]"
          },
          "metadata": {
            "needs_background": "light"
          }
        },
        {
          "output_type": "display_data",
          "data": {
            "text/plain": [
              "<Figure size 504x288 with 1 Axes>"
            ],
            "image/png": "[encoded data removed]"
          },
          "metadata": {
            "needs_background": "light"
          }
        },
        {
          "output_type": "display_data",
          "data": {
            "text/plain": [
              "<Figure size 504x288 with 1 Axes>"
            ],
            "image/png": "[encoded data removed]"
          },
          "metadata": {
            "needs_background": "light"
          }
        },
        {
          "output_type": "display_data",
          "data": {
            "text/plain": [
              "<Figure size 504x288 with 1 Axes>"
            ],
            "image/png": "[encoded data removed]"
          },
          "metadata": {
            "needs_background": "light"
          }
        },
        {
          "output_type": "display_data",
          "data": {
            "text/plain": [
              "<Figure size 504x288 with 1 Axes>"
            ],
            "image/png": "[encoded data removed]"
          },
          "metadata": {
            "needs_background": "light"
          }
        },
        {
          "output_type": "display_data",
          "data": {
            "text/plain": [
              "<Figure size 504x288 with 1 Axes>"
            ],
            "image/png": "[encoded data removed]"
          },
          "metadata": {
            "needs_background": "light"
          }
        },
        {
          "output_type": "display_data",
          "data": {
            "text/plain": [
              "<Figure size 504x288 with 1 Axes>"
            ],
            "image/png": "[encoded data removed]"
          },
          "metadata": {
            "needs_background": "light"
          }
        }
      ]
    },
    {
      "cell_type": "code",
      "source": [
        "%%shell\n",
        "jupyter nbconvert --to html /DP_Midterm.ipynb"
      ],
      "metadata": {
        "colab": {
          "base_uri": "https://localhost:8080/"
        },
        "id": "7b0iUNiShTFx",
        "outputId": "4401698d-0ccc-4190-d813-bcb7812d7c97"
      },
      "execution_count": null,
      "outputs": [
        {
          "output_type": "stream",
          "name": "stdout",
          "text": [
            "[NbConvertApp] Converting notebook /DP_Midterm.ipynb to html\n",
            "[NbConvertApp] Writing 986331 bytes to /DP_Midterm.html\n"
          ]
        },
        {
          "output_type": "execute_result",
          "data": {
            "text/plain": []
          },
          "metadata": {},
          "execution_count": 36
        }
      ]
    },
    {
      "cell_type": "code",
      "source": [],
      "metadata": {
        "id": "l6vqymQehXnD"
      },
      "execution_count": null,
      "outputs": []
    }
  ]
}